{
 "cells": [
  {
   "cell_type": "code",
   "execution_count": 888,
   "metadata": {},
   "outputs": [],
   "source": [
    "import pandas as pd\n",
    "import numpy as np\n",
    "import matplotlib.pyplot as plt\n",
    "import seaborn as sns"
   ]
  },
  {
   "cell_type": "code",
   "execution_count": 889,
   "metadata": {},
   "outputs": [],
   "source": [
    "death_data = pd.read_csv('deaths.csv')\n",
    "confirmed_data = pd.read_csv('confirmed.csv')\n",
    "death_data = death_data.drop('Province/State', axis = 1)\n",
    "confirmed_data = confirmed_data.drop('Province/State', axis = 1)\n",
    "location_data = pd.DataFrame({'Country': confirmed_data['Country/Region'], 'Lat': confirmed_data['Lat'], 'Long' : confirmed_data['Long']}, columns=['Country', 'Lat', 'Long'])\n",
    "location_data = location_data.groupby('Country').agg('mean')"
   ]
  },
  {
   "cell_type": "code",
   "execution_count": 890,
   "metadata": {},
   "outputs": [],
   "source": [
    "death_data = death_data.drop('Lat', axis = 1)\n",
    "death_data = death_data.drop('Long', axis = 1)\n",
    "confirmed_data = confirmed_data.drop('Lat', axis = 1)\n",
    "confirmed_data = confirmed_data.drop('Long', axis = 1)"
   ]
  },
  {
   "cell_type": "code",
   "execution_count": 892,
   "metadata": {},
   "outputs": [],
   "source": [
    "confirmed_data = confirmed_data.groupby('Country/Region').agg('sum')\n",
    "#confirmed_data = confirmed_data.join(location_data)\n",
    "death_data = death_data.groupby('Country/Region').agg('sum')\n",
    "#death_data = death_data.join(location_data)"
   ]
  },
  {
   "cell_type": "code",
   "execution_count": 894,
   "metadata": {},
   "outputs": [],
   "source": [
    "countryfilter = confirmed_data.index.isin([\"South Korea\", \"Italy\", \"China\", \"US\", \"Japan\", \"United Kingdom\", \"France\", \"Korea South\"])\n",
    "confirmed_data = confirmed_data[countryfilter]\n",
    "death_data = death_data[countryfilter]"
   ]
  },
  {
   "cell_type": "code",
   "execution_count": 895,
   "metadata": {},
   "outputs": [],
   "source": [
    "China = confirmed_data.iloc[0].divide(14377.22468)\n",
    "France = confirmed_data.iloc[1].divide(652.73511)[2:]\n",
    "Italy = confirmed_data.iloc[2].divide(604.87167)[9:]\n",
    "Japan = confirmed_data.iloc[3].divide(1265.87521)\n",
    "USA = confirmed_data.iloc[4].divide(3304.41184)\n",
    "Korea = confirmed_data.iloc[5].divide(512.56069)"
   ]
  },
  {
   "cell_type": "code",
   "execution_count": 896,
   "metadata": {},
   "outputs": [
    {
     "data": {
      "text/html": [
       "<div>\n",
       "<style scoped>\n",
       "    .dataframe tbody tr th:only-of-type {\n",
       "        vertical-align: middle;\n",
       "    }\n",
       "\n",
       "    .dataframe tbody tr th {\n",
       "        vertical-align: top;\n",
       "    }\n",
       "\n",
       "    .dataframe thead th {\n",
       "        text-align: right;\n",
       "    }\n",
       "</style>\n",
       "<table border=\"1\" class=\"dataframe\">\n",
       "  <thead>\n",
       "    <tr style=\"text-align: right;\">\n",
       "      <th></th>\n",
       "      <th>1/22/20</th>\n",
       "      <th>1/23/20</th>\n",
       "      <th>1/24/20</th>\n",
       "      <th>1/25/20</th>\n",
       "      <th>1/26/20</th>\n",
       "      <th>1/27/20</th>\n",
       "      <th>1/28/20</th>\n",
       "      <th>1/29/20</th>\n",
       "      <th>1/30/20</th>\n",
       "      <th>1/31/20</th>\n",
       "      <th>...</th>\n",
       "      <th>3/7/20</th>\n",
       "      <th>3/8/20</th>\n",
       "      <th>3/9/20</th>\n",
       "      <th>3/10/20</th>\n",
       "      <th>3/11/20</th>\n",
       "      <th>3/12/20</th>\n",
       "      <th>3/13/20</th>\n",
       "      <th>3/14/20</th>\n",
       "      <th>3/15/20</th>\n",
       "      <th>3/16/20</th>\n",
       "    </tr>\n",
       "    <tr>\n",
       "      <th>Country/Region</th>\n",
       "      <th></th>\n",
       "      <th></th>\n",
       "      <th></th>\n",
       "      <th></th>\n",
       "      <th></th>\n",
       "      <th></th>\n",
       "      <th></th>\n",
       "      <th></th>\n",
       "      <th></th>\n",
       "      <th></th>\n",
       "      <th></th>\n",
       "      <th></th>\n",
       "      <th></th>\n",
       "      <th></th>\n",
       "      <th></th>\n",
       "      <th></th>\n",
       "      <th></th>\n",
       "      <th></th>\n",
       "      <th></th>\n",
       "      <th></th>\n",
       "      <th></th>\n",
       "    </tr>\n",
       "  </thead>\n",
       "  <tbody>\n",
       "    <tr>\n",
       "      <th>China</th>\n",
       "      <td>548</td>\n",
       "      <td>643</td>\n",
       "      <td>920</td>\n",
       "      <td>1406</td>\n",
       "      <td>2075</td>\n",
       "      <td>2877</td>\n",
       "      <td>5509</td>\n",
       "      <td>6087</td>\n",
       "      <td>8141</td>\n",
       "      <td>9802</td>\n",
       "      <td>...</td>\n",
       "      <td>80770</td>\n",
       "      <td>80823</td>\n",
       "      <td>80860</td>\n",
       "      <td>80887</td>\n",
       "      <td>80921</td>\n",
       "      <td>80932</td>\n",
       "      <td>80945</td>\n",
       "      <td>80977</td>\n",
       "      <td>81003</td>\n",
       "      <td>81033</td>\n",
       "    </tr>\n",
       "    <tr>\n",
       "      <th>France</th>\n",
       "      <td>0</td>\n",
       "      <td>0</td>\n",
       "      <td>2</td>\n",
       "      <td>3</td>\n",
       "      <td>3</td>\n",
       "      <td>3</td>\n",
       "      <td>4</td>\n",
       "      <td>5</td>\n",
       "      <td>5</td>\n",
       "      <td>5</td>\n",
       "      <td>...</td>\n",
       "      <td>957</td>\n",
       "      <td>1134</td>\n",
       "      <td>1217</td>\n",
       "      <td>1792</td>\n",
       "      <td>2289</td>\n",
       "      <td>2289</td>\n",
       "      <td>3672</td>\n",
       "      <td>4480</td>\n",
       "      <td>4513</td>\n",
       "      <td>6650</td>\n",
       "    </tr>\n",
       "    <tr>\n",
       "      <th>Italy</th>\n",
       "      <td>0</td>\n",
       "      <td>0</td>\n",
       "      <td>0</td>\n",
       "      <td>0</td>\n",
       "      <td>0</td>\n",
       "      <td>0</td>\n",
       "      <td>0</td>\n",
       "      <td>0</td>\n",
       "      <td>0</td>\n",
       "      <td>2</td>\n",
       "      <td>...</td>\n",
       "      <td>5883</td>\n",
       "      <td>7375</td>\n",
       "      <td>9172</td>\n",
       "      <td>10149</td>\n",
       "      <td>12462</td>\n",
       "      <td>12462</td>\n",
       "      <td>17660</td>\n",
       "      <td>21157</td>\n",
       "      <td>24747</td>\n",
       "      <td>27980</td>\n",
       "    </tr>\n",
       "    <tr>\n",
       "      <th>Japan</th>\n",
       "      <td>2</td>\n",
       "      <td>1</td>\n",
       "      <td>2</td>\n",
       "      <td>2</td>\n",
       "      <td>4</td>\n",
       "      <td>4</td>\n",
       "      <td>7</td>\n",
       "      <td>7</td>\n",
       "      <td>11</td>\n",
       "      <td>15</td>\n",
       "      <td>...</td>\n",
       "      <td>461</td>\n",
       "      <td>502</td>\n",
       "      <td>511</td>\n",
       "      <td>581</td>\n",
       "      <td>639</td>\n",
       "      <td>639</td>\n",
       "      <td>701</td>\n",
       "      <td>773</td>\n",
       "      <td>839</td>\n",
       "      <td>825</td>\n",
       "    </tr>\n",
       "    <tr>\n",
       "      <th>US</th>\n",
       "      <td>1</td>\n",
       "      <td>1</td>\n",
       "      <td>2</td>\n",
       "      <td>2</td>\n",
       "      <td>5</td>\n",
       "      <td>5</td>\n",
       "      <td>5</td>\n",
       "      <td>5</td>\n",
       "      <td>5</td>\n",
       "      <td>7</td>\n",
       "      <td>...</td>\n",
       "      <td>402</td>\n",
       "      <td>518</td>\n",
       "      <td>583</td>\n",
       "      <td>959</td>\n",
       "      <td>1281</td>\n",
       "      <td>1663</td>\n",
       "      <td>2179</td>\n",
       "      <td>2727</td>\n",
       "      <td>3499</td>\n",
       "      <td>4632</td>\n",
       "    </tr>\n",
       "  </tbody>\n",
       "</table>\n",
       "<p>5 rows × 55 columns</p>\n",
       "</div>"
      ],
      "text/plain": [
       "                1/22/20  1/23/20  1/24/20  1/25/20  1/26/20  1/27/20  1/28/20  \\\n",
       "Country/Region                                                                  \n",
       "China               548      643      920     1406     2075     2877     5509   \n",
       "France                0        0        2        3        3        3        4   \n",
       "Italy                 0        0        0        0        0        0        0   \n",
       "Japan                 2        1        2        2        4        4        7   \n",
       "US                    1        1        2        2        5        5        5   \n",
       "\n",
       "                1/29/20  1/30/20  1/31/20  ...  3/7/20  3/8/20  3/9/20  \\\n",
       "Country/Region                             ...                           \n",
       "China              6087     8141     9802  ...   80770   80823   80860   \n",
       "France                5        5        5  ...     957    1134    1217   \n",
       "Italy                 0        0        2  ...    5883    7375    9172   \n",
       "Japan                 7       11       15  ...     461     502     511   \n",
       "US                    5        5        7  ...     402     518     583   \n",
       "\n",
       "                3/10/20  3/11/20  3/12/20  3/13/20  3/14/20  3/15/20  3/16/20  \n",
       "Country/Region                                                                 \n",
       "China             80887    80921    80932    80945    80977    81003    81033  \n",
       "France             1792     2289     2289     3672     4480     4513     6650  \n",
       "Italy             10149    12462    12462    17660    21157    24747    27980  \n",
       "Japan               581      639      639      701      773      839      825  \n",
       "US                  959     1281     1663     2179     2727     3499     4632  \n",
       "\n",
       "[5 rows x 55 columns]"
      ]
     },
     "execution_count": 896,
     "metadata": {},
     "output_type": "execute_result"
    }
   ],
   "source": [
    "confirmed_data.head()"
   ]
  },
  {
   "cell_type": "code",
   "execution_count": null,
   "metadata": {},
   "outputs": [],
   "source": []
  },
  {
   "cell_type": "code",
   "execution_count": 898,
   "metadata": {},
   "outputs": [
    {
     "data": {
      "image/png": "[encoded data removed]",
      "text/plain": [
       "<Figure size 432x288 with 6 Axes>"
      ]
     },
     "metadata": {
      "needs_background": "light"
     },
     "output_type": "display_data"
    }
   ],
   "source": [
    "fig,a =  plt.subplots(2,3)\n",
    "x = np.arange(1,5)\n",
    "fig.tight_layout()\n",
    "a[0][0].plot(range(1,56), confirmed_data.iloc[0])\n",
    "a[0][0].set_title('China')\n",
    "a[0][1].plot(range(1,56), confirmed_data.iloc[1])\n",
    "a[0][1].set_title('France')\n",
    "a[1][0].plot(range(1,56), confirmed_data.iloc[2])\n",
    "a[1][0].set_title('Italy')\n",
    "a[1][1].plot(range(1,56), confirmed_data.iloc[3])\n",
    "a[1][1].set_title('Japan')\n",
    "a[0][2].plot(range(1,56), confirmed_data.iloc[4])\n",
    "a[0][2].set_title('USA')\n",
    "a[1][2].plot(range(1,56), confirmed_data.iloc[5])\n",
    "a[1][2].set_title('Korea')\n",
    "plt.show()\n"
   ]
  },
  {
   "cell_type": "code",
   "execution_count": 930,
   "metadata": {},
   "outputs": [],
   "source": [
    "from statsmodels.tsa.stattools import adfuller\n",
    "def test_stationarity(timeseries):\n",
    "    \n",
    "    #Determing rolling statistics\n",
    "    ema = timeseries.ewm(7).mean()\n",
    "    rolmean = timeseries.rolling(7).mean()\n",
    "    stat = rolmean-ema\n",
    "    rolstd = timeseries.rolling(7).std()\n",
    "    #Plot rolling statistics:\n",
    "    plt.plot(timeseries, color='blue',label='Original')\n",
    "    #plt.plot(rolmean, color='red', label='Rolling Mean')\n",
    "    plt.plot(stat, color= 'green', label = 'Smoothed')\n",
    "    plt.plot(rolstd, color='black', label = 'Rolling Std')\n",
    "    plt.legend(loc='best')\n",
    "    plt.title('Rolling Mean & Standard Deviation')\n",
    "    plt.show()\n",
    "    #Perform Dickey-Fuller test:\n",
    "    print ('Results of Dickey-Fuller Test:')\n",
    "    dftest = adfuller(timeseries, autolag='AIC')\n",
    "    dfoutput = pd.Series(dftest[0:4], index=['Test Statistic','p-value','#Lags Used','Number of Observations Used'])\n",
    "    for key,value in dftest[4].items():\n",
    "        dfoutput['Critical Value (%s)'%key] = value\n",
    "    #print (dfoutput)\n",
    "    "
   ]
  },
  {
   "cell_type": "code",
   "execution_count": 931,
   "metadata": {},
   "outputs": [
    {
     "data": {
      "image/png": "[encoded data removed]",
      "text/plain": [
       "<Figure size 432x288 with 1 Axes>"
      ]
     },
     "metadata": {
      "needs_background": "light"
     },
     "output_type": "display_data"
    },
    {
     "name": "stdout",
     "output_type": "stream",
     "text": [
      "Results of Dickey-Fuller Test:\n"
     ]
    }
   ],
   "source": [
    "test_stationarity(China)"
   ]
  },
  {
   "cell_type": "code",
   "execution_count": null,
   "metadata": {},
   "outputs": [],
   "source": []
  }
 ],
 "metadata": {
  "kernelspec": {
   "display_name": "Python 3",
   "language": "python",
   "name": "python3"
  },
  "language_info": {
   "codemirror_mode": {
    "name": "ipython",
    "version": 3
   },
   "file_extension": ".py",
   "mimetype": "text/x-python",
   "name": "python",
   "nbconvert_exporter": "python",
   "pygments_lexer": "ipython3",
   "version": "3.7.6"
  }
 },
 "nbformat": 4,
 "nbformat_minor": 4
}
